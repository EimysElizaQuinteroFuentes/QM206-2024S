{
  "nbformat": 4,
  "nbformat_minor": 0,
  "metadata": {
    "colab": {
      "provenance": [],
      "include_colab_link": true
    },
    "kernelspec": {
      "name": "python3",
      "display_name": "Python 3"
    },
    "language_info": {
      "name": "python"
    }
  },
  "cells": [
    {
      "cell_type": "markdown",
      "metadata": {
        "id": "view-in-github",
        "colab_type": "text"
      },
      "source": [
        "<a href=\"https://colab.research.google.com/github/EimysElizaQuinteroFuentes/QM206-2024S/blob/main/EIMYS_QUINTERO_COMUTACIONAL.ipynb\" target=\"_parent\"><img src=\"https://colab.research.google.com/assets/colab-badge.svg\" alt=\"Open In Colab\"/></a>"
      ]
    },
    {
      "cell_type": "code",
      "execution_count": null,
      "metadata": {
        "colab": {
          "base_uri": "https://localhost:8080/"
        },
        "id": "oQQ_f9rHHDG0",
        "outputId": "cff109a9-d8b7-45f8-b4e7-605a3e441661"
      },
      "outputs": [
        {
          "output_type": "stream",
          "name": "stdout",
          "text": [
            "Molaridad de la solución de HCl: 0.5485463521667581 mol/L\n"
          ]
        }
      ],
      "source": [
        "# Problema 1: Función que calcule la molaridad de una solución\n",
        "# Fórmula general: M = molesSoluto / volumenL\n",
        "# Parámetros: masa en gramos, peso molecular (g/mol), volumen en mL\n",
        "\n",
        "def calcularMolaridad(masaSoluto, pesoMolecular, volumenMl):\n",
        "    molesSoluto = masaSoluto / pesoMolecular\n",
        "    volumenL = volumenMl / 1000\n",
        "    M = molesSoluto / volumenL\n",
        "    return M\n",
        "\n",
        "# Ejemplo #1: Cálculo de la molaridad de HCl\n",
        "molaridad = calcularMolaridad(15, 36.46, 750)\n",
        "print(f\"Molaridad de la solución de HCl: {molaridad} mol/L\")\n",
        "\n"
      ]
    },
    {
      "cell_type": "code",
      "source": [
        "import math\n",
        "# Problema 2: Función que calcule el pH de una solución de un ácido fuerte\n",
        "# Fórmula general: pH = -log10([H+])\n",
        "# Parámetro: concentración de iones de hidrógeno en mol/L.\n",
        "\n",
        "def calcularPh(concentracionH):\n",
        "    return -math.log10(concentracionH)\n",
        "\n",
        "# Ejemplo #2: Cálculo del pH de una solución de ácido fuerte con concentración 0.1 M\n",
        "ph = calcularPh(0.1)\n",
        "print(f\"pH de la solución: {ph}\")\n",
        "\n"
      ],
      "metadata": {
        "colab": {
          "base_uri": "https://localhost:8080/"
        },
        "id": "gSIeDflYIsDx",
        "outputId": "01dffb6b-e900-43b8-b4c7-a3c98be735f5"
      },
      "execution_count": null,
      "outputs": [
        {
          "output_type": "stream",
          "name": "stdout",
          "text": [
            "pH de la solución: 1.0\n"
          ]
        }
      ]
    },
    {
      "cell_type": "code",
      "source": [
        "# Problema 3: Función que calcula la masa molar de un gas ideal\n",
        "# Fórmula general: M = (masa * R * T) / (P * V)\n",
        "# Parámetros: masa en gramos, volumen en mL, temperatura en °C, presión en atm.\n",
        "\n",
        "def calcularMasaMolar(masa, volumenMl, temperaturaC, presionAtm):\n",
        "    volumenL = volumenMl / 1000  # Convertir volumen de mL a L\n",
        "    temperaturaK = temperaturaC + 273.15  # Convertir temperatura de °C a K\n",
        "    R = 0.0821  # Constante de los gases en L·atm/(mol·K)\n",
        "    M = (masa * R * temperaturaK) / (presionAtm * volumenL)\n",
        "    return M\n",
        "\n",
        "# Ejemplo #3: Cálculo de la masa molar para un gas ideal con masa 8 g, volumen 300 mL, temperatura 20°C, y presión 0.8 atm\n",
        "masaMolar = calcularMasaMolar(8, 300, 20, 0.8)\n",
        "print(f\"Masa molar del gas: {masaMolar} g/mol\")\n",
        "\n"
      ],
      "metadata": {
        "colab": {
          "base_uri": "https://localhost:8080/"
        },
        "id": "7UbGmOUrJ-Y9",
        "outputId": "062fee07-c673-44ef-a49f-c4cffe6d9880"
      },
      "execution_count": null,
      "outputs": [
        {
          "output_type": "stream",
          "name": "stdout",
          "text": [
            "Masa molar del gas: 802.2538333333333 g/mol\n"
          ]
        }
      ]
    },
    {
      "cell_type": "code",
      "source": [
        "import math\n",
        "\n",
        "# Problema 4: Función para calcular la concentración del ácido y la base conjugada para un buffer\n",
        "# Usando la ecuación de Henderson-Hasselbalch: pH = pKa + log([Base]/[Ácido])\n",
        "# Parámetros: pH deseado, Ka, volumen de la solución en mL\n",
        "\n",
        "def calcularBuffer(pH_deseado, Ka, volumen_ml):\n",
        "    pKa = -math.log10(Ka)\n",
        "    concentracion_acido = 0.2  # Concentración de ácido en M\n",
        "    concentracion_base = 10 ** (pH_deseado - pKa) * concentracion_acido\n",
        "    return concentracion_acido, concentracion_base\n",
        "\n",
        "# Ejemplo #1: Cálculo de las concentraciones de un buffer con pH deseado de 9.07\n",
        "concentracion_acido, concentracion_base = calcularBuffer(9.07, 5.7e-10, 500)\n",
        "print(f\"Concentración de ácido: {concentracion_acido} M\")\n",
        "print(f\"Concentración de base conjugada: {concentracion_base} M\")\n"
      ],
      "metadata": {
        "colab": {
          "base_uri": "https://localhost:8080/"
        },
        "id": "3cHr3a4I-J4c",
        "outputId": "47e0b558-2253-44aa-8eb6-76be16dbed4d"
      },
      "execution_count": null,
      "outputs": [
        {
          "output_type": "stream",
          "name": "stdout",
          "text": [
            "Concentración de ácido: 0.2 M\n",
            "Concentración de base conjugada: 0.13393832126310648 M\n"
          ]
        }
      ]
    },
    {
      "cell_type": "code",
      "source": [
        "# Problema 5: Función que calcula la energía liberada en una reacción química\n",
        "# Fórmula general: Energía = molesReactivo * deltaHFormacion\n",
        "# Parámetros: moles de reactivo y ΔH de formación (kJ/mol)\n",
        "\n",
        "def calcularEnergiaLiberada(molesReactivo, deltaHFormacion):\n",
        "    energia = molesReactivo * deltaHFormacion\n",
        "    return energia\n",
        "\n",
        "# Ejemplo #3: Cálculo de energía liberada con 1.5 moles de reactivo y ΔH de formación de -400 kJ/mol\n",
        "energiaLiberada = calcularEnergiaLiberada(1.5, -400)\n",
        "print(f\"Energía liberada en la reacción: {energiaLiberada} kJ\")\n"
      ],
      "metadata": {
        "colab": {
          "base_uri": "https://localhost:8080/"
        },
        "id": "UuKfpYfmKv_h",
        "outputId": "3f569d89-7152-4bc4-f790-ad28903c3fac"
      },
      "execution_count": null,
      "outputs": [
        {
          "output_type": "stream",
          "name": "stdout",
          "text": [
            "Energía liberada en la reacción: -600.0 kJ\n"
          ]
        }
      ]
    },
    {
      "cell_type": "code",
      "source": [
        "# Problema 6: Función que calcula el rendimiento porcentual de una reacción\n",
        "# Fórmula general: Rendimiento % = (masaExperimental / masaTeorica) * 100\n",
        "# Parámetros: masa teórica y masa experimental (en gramos)\n",
        "\n",
        "def calcularRendimientoPorcentual(masaTeorica, masaExperimental):\n",
        "    rendimiento = (masaExperimental / masaTeorica) * 100\n",
        "    return rendimiento\n",
        "\n",
        "# Ejemplo #6: Cálculo de rendimiento porcentual con una masa teórica de 15 g y una masa experimental de 12 g\n",
        "rendimiento = calcularRendimientoPorcentual(15, 12)\n",
        "print(f\"Rendimiento porcentual de la reacción: {rendimiento}%\")\n"
      ],
      "metadata": {
        "colab": {
          "base_uri": "https://localhost:8080/"
        },
        "id": "v1-dTcPFMjdO",
        "outputId": "ed14ad17-5240-48e6-e100-4eb20386a5fa"
      },
      "execution_count": null,
      "outputs": [
        {
          "output_type": "stream",
          "name": "stdout",
          "text": [
            "Rendimiento porcentual de la reacción: 80.0%\n"
          ]
        }
      ]
    },
    {
      "cell_type": "code",
      "source": [
        "# Problema 7: Función que calcula el calor específico de un metal\n",
        "# Fórmula general: Calor específico = calorAbsorbido / (masa * deltaT)\n",
        "# Parámetros: masa en gramos, cambio de temperatura (°C) y calor absorbido (J)\n",
        "\n",
        "def calcularCalorEspecifico(masa, deltaT, calorAbsorbido):\n",
        "    calorEspecifico = calorAbsorbido / (masa * deltaT)\n",
        "    return calorEspecifico\n",
        "\n",
        "# Ejemplo #7: Cálculo del calor específico con masa de 20 g, ΔT de 10 °C, y calor absorbido de 150 J\n",
        "calorEspecifico = calcularCalorEspecifico(20, 10, 150)\n",
        "print(f\"Calor específico del metal: {calorEspecifico} J/g°C\")\n"
      ],
      "metadata": {
        "colab": {
          "base_uri": "https://localhost:8080/"
        },
        "id": "ThxMI8xdN4QR",
        "outputId": "e4fa98bc-d0b9-4d04-ed4d-bc81c884d0e8"
      },
      "execution_count": null,
      "outputs": [
        {
          "output_type": "stream",
          "name": "stdout",
          "text": [
            "Calor específico del metal: 0.75 J/g°C\n"
          ]
        }
      ]
    },
    {
      "cell_type": "code",
      "source": [
        "# Problema 8: Función que calcula la presión osmótica de una disolución\n",
        "# Fórmula general: Presión osmótica = Molaridad * R * T\n",
        "# Parámetros: concentración en gramos por litro, peso molecular del soluto y temperatura en °C\n",
        "\n",
        "def calcularPresionOsmotica(concentracion_gL, pesoMolecular, temperaturaC):\n",
        "    temperaturaK = temperaturaC + 273.15  # Convertir temperatura a Kelvin\n",
        "    molaridad = concentracion_gL / pesoMolecular  # Calcular molaridad (moles/L)\n",
        "    R = 0.0821  # Constante de los gases en L·atm/(mol·K)\n",
        "    presionOsmotica = molaridad * R * temperaturaK\n",
        "    return presionOsmotica\n",
        "\n",
        "# Ejemplo #3: Cálculo de la presión osmótica para una disolución con 0.5 g/L de soluto de peso molecular 44 g/mol a 20°C\n",
        "presionOsmotica = calcularPresionOsmotica(0.5, 44, 20)\n",
        "print(f\"Presión osmótica de la disolución: {presionOsmotica} atm\")\n"
      ],
      "metadata": {
        "colab": {
          "base_uri": "https://localhost:8080/"
        },
        "id": "2Dp2CarIOjFk",
        "outputId": "14d452dd-9f11-4da2-97d4-dee0dbafc887"
      },
      "execution_count": null,
      "outputs": [
        {
          "output_type": "stream",
          "name": "stdout",
          "text": [
            "Presión osmótica de la disolución: 0.273495625 atm\n"
          ]
        }
      ]
    },
    {
      "cell_type": "code",
      "source": [
        "# Problema 9: Función que calcula el producto de solubilidad (Kps) de una sal insoluble\n",
        "# Fórmula general para Fe(OH)3: Kps = 27 * s^4\n",
        "# Parámetro: solubilidad en mol/L\n",
        "\n",
        "def calcularKps(solubilidad, compuesto):\n",
        "    if compuesto == \"Fe(OH)3\":\n",
        "        kps = 27 * (solubilidad ** 4)  # Para Fe(OH)3, Kps = 27s^4\n",
        "    else:\n",
        "        raise ValueError(\"Compuesto no soportado. Usa 'Fe(OH)3'.\")\n",
        "    return kps\n",
        "\n",
        "# Ejemplo #9: Cálculo de Kps para Fe(OH)3 con una solubilidad de 0.005 mol/L\n",
        "kps = calcularKps(0.005, \"Fe(OH)3\")\n",
        "print(f\"Kps de Fe(OH)3: {kps}\")\n"
      ],
      "metadata": {
        "colab": {
          "base_uri": "https://localhost:8080/"
        },
        "id": "rH3oPQFrQtVZ",
        "outputId": "f85bc1e0-b7ad-4c12-f323-64683995084c"
      },
      "execution_count": null,
      "outputs": [
        {
          "output_type": "stream",
          "name": "stdout",
          "text": [
            "Kps de Fe(OH)3: 1.6875e-08\n"
          ]
        }
      ]
    },
    {
      "cell_type": "code",
      "source": [
        "import numpy as np\n",
        "import matplotlib.pyplot as plt\n",
        "import pandas as pd\n",
        "\n",
        "# Problema 10: Cálculo de presión en función del volumen para un gas ideal a temperatura constante\n",
        "# Fórmula general para gases ideales: P * V = n * R * T\n",
        "# Parámetros: número de moles (n), temperatura (T en K), constante de gases (R = 0.0821 L·atm/(mol·K)), y array de volúmenes en L\n",
        "\n",
        "def calcularPresion(n, T, volumenes):\n",
        "    R = 0.0821  # Constante de los gases en L·atm/(mol·K)\n",
        "    presion = (n * R * T) / volumenes  # Calcula presión en atm\n",
        "    return presion\n",
        "\n",
        "# Ejemplo #10: Gráfica de la presión en función del volumen para n = 1 mol y T = 298 K\n",
        "volumenes = np.linspace(0.1, 5.0, 20)  # Rango de volúmenes de 0.1 a 5.0 L\n",
        "presiones = calcularPresion(1, 298, volumenes)\n",
        "\n",
        "# Crear DataFrame para mostrar resultados\n",
        "df = pd.DataFrame({\"Volumen (L)\": volumenes, \"Presión (atm)\": presiones})\n",
        "print(df)\n",
        "\n",
        "# Graficar volumen vs. presión\n",
        "plt.plot(volumenes, presiones, color='green', marker='o')\n",
        "plt.xlabel(\"Volumen (L)\")\n",
        "plt.ylabel(\"Presión (atm)\")\n",
        "plt.title(\"Presión en función del Volumen para un gas ideal\")\n",
        "plt.grid()\n",
        "plt.show()\n"
      ],
      "metadata": {
        "id": "O4k85ro-b4jN",
        "outputId": "3e61d07a-09ec-475d-e885-f80821481d35",
        "colab": {
          "base_uri": "https://localhost:8080/",
          "height": 837
        }
      },
      "execution_count": null,
      "outputs": [
        {
          "output_type": "stream",
          "name": "stdout",
          "text": [
            "    Volumen (L)  Presión (atm)\n",
            "0      0.100000     244.658000\n",
            "1      0.357895      68.360324\n",
            "2      0.615789      39.730786\n",
            "3      0.873684      28.003024\n",
            "4      1.131579      21.620940\n",
            "5      1.389474      17.607962\n",
            "6      1.647368      14.851444\n",
            "7      1.905263      12.841166\n",
            "8      2.163158      11.310224\n",
            "9      2.421053      10.105439\n",
            "10     2.678947       9.132617\n",
            "11     2.936842       8.330649\n",
            "12     3.194737       7.658158\n",
            "13     3.452632       7.086131\n",
            "14     3.710526       6.593620\n",
            "15     3.968421       6.165122\n",
            "16     4.226316       5.788919\n",
            "17     4.484211       5.455988\n",
            "18     4.742105       5.159270\n",
            "19     5.000000       4.893160\n"
          ]
        },
        {
          "output_type": "display_data",
          "data": {
            "text/plain": [
              "<Figure size 640x480 with 1 Axes>"
            ],
            "image/png": "[encoded data removed]"
          },
          "metadata": {}
        }
      ]
    }
  ]
}